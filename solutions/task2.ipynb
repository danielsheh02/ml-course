{
 "cells": [
  {
   "cell_type": "markdown",
   "metadata": {},
   "source": [
    "### Task2: Линейная регрессия, метод градиентного спуска."
   ]
  },
  {
   "cell_type": "markdown",
   "metadata": {},
   "source": [
    "#### Импорт необходимых библиотек"
   ]
  },
  {
   "cell_type": "code",
   "execution_count": 329,
   "metadata": {},
   "outputs": [],
   "source": [
    "import matplotlib.pyplot as plt\n",
    "import pandas as pd\n",
    "import seaborn as sns\n",
    "import abc\n",
    "from sklearn.preprocessing import LabelEncoder\n",
    "from sklearn.feature_selection import RFECV\n",
    "from sklearn.model_selection import train_test_split\n",
    "from sklearn.linear_model import Ridge\n",
    "from sklearn.base import BaseEstimator, RegressorMixin\n",
    "from sklearn.utils.validation import (\n",
    "    check_scalar, check_X_y, check_array, check_random_state, check_is_fitted\n",
    ")\n",
    "from sklearn.metrics import mean_squared_error, r2_score\n",
    "from sklearn.utils.estimator_checks import check_estimator\n",
    "from sklearn.pipeline import Pipeline\n",
    "from sklearn.preprocessing import StandardScaler\n",
    "from sklearn.model_selection import GridSearchCV\n",
    "from math import ceil\n",
    "from numbers import Integral, Real\n",
    "import numpy as np\n",
    "\n",
    "import warnings\n",
    "warnings.filterwarnings('ignore')"
   ]
  },
  {
   "cell_type": "markdown",
   "metadata": {},
   "source": [
    "### Разведочный анализ"
   ]
  },
  {
   "cell_type": "markdown",
   "metadata": {},
   "source": [
    "#### Набор данных\n",
    "\n",
    "Был выбран датасет с информацией об автомобилях, которые продавались в Польше. Набор содержит данные о марке, модели, поколении, годе выпуска, пробеге, местоположении и цене машины, а также о типе и об объеме двигателя."
   ]
  },
  {
   "cell_type": "code",
   "execution_count": 330,
   "metadata": {},
   "outputs": [
    {
     "data": {
      "text/html": [
       "<div>\n",
       "<style scoped>\n",
       "    .dataframe tbody tr th:only-of-type {\n",
       "        vertical-align: middle;\n",
       "    }\n",
       "\n",
       "    .dataframe tbody tr th {\n",
       "        vertical-align: top;\n",
       "    }\n",
       "\n",
       "    .dataframe thead th {\n",
       "        text-align: right;\n",
       "    }\n",
       "</style>\n",
       "<table border=\"1\" class=\"dataframe\">\n",
       "  <thead>\n",
       "    <tr style=\"text-align: right;\">\n",
       "      <th></th>\n",
       "      <th>Unnamed: 0</th>\n",
       "      <th>mark</th>\n",
       "      <th>model</th>\n",
       "      <th>generation_name</th>\n",
       "      <th>year</th>\n",
       "      <th>mileage</th>\n",
       "      <th>vol_engine</th>\n",
       "      <th>fuel</th>\n",
       "      <th>city</th>\n",
       "      <th>province</th>\n",
       "      <th>price</th>\n",
       "    </tr>\n",
       "  </thead>\n",
       "  <tbody>\n",
       "    <tr>\n",
       "      <th>0</th>\n",
       "      <td>0</td>\n",
       "      <td>opel</td>\n",
       "      <td>combo</td>\n",
       "      <td>gen-d-2011</td>\n",
       "      <td>2015</td>\n",
       "      <td>139568</td>\n",
       "      <td>1248</td>\n",
       "      <td>Diesel</td>\n",
       "      <td>Janki</td>\n",
       "      <td>Mazowieckie</td>\n",
       "      <td>35900</td>\n",
       "    </tr>\n",
       "    <tr>\n",
       "      <th>1</th>\n",
       "      <td>1</td>\n",
       "      <td>opel</td>\n",
       "      <td>combo</td>\n",
       "      <td>gen-d-2011</td>\n",
       "      <td>2018</td>\n",
       "      <td>31991</td>\n",
       "      <td>1499</td>\n",
       "      <td>Diesel</td>\n",
       "      <td>Katowice</td>\n",
       "      <td>Śląskie</td>\n",
       "      <td>78501</td>\n",
       "    </tr>\n",
       "    <tr>\n",
       "      <th>2</th>\n",
       "      <td>2</td>\n",
       "      <td>opel</td>\n",
       "      <td>combo</td>\n",
       "      <td>gen-d-2011</td>\n",
       "      <td>2015</td>\n",
       "      <td>278437</td>\n",
       "      <td>1598</td>\n",
       "      <td>Diesel</td>\n",
       "      <td>Brzeg</td>\n",
       "      <td>Opolskie</td>\n",
       "      <td>27000</td>\n",
       "    </tr>\n",
       "    <tr>\n",
       "      <th>3</th>\n",
       "      <td>3</td>\n",
       "      <td>opel</td>\n",
       "      <td>combo</td>\n",
       "      <td>gen-d-2011</td>\n",
       "      <td>2016</td>\n",
       "      <td>47600</td>\n",
       "      <td>1248</td>\n",
       "      <td>Diesel</td>\n",
       "      <td>Korfantów</td>\n",
       "      <td>Opolskie</td>\n",
       "      <td>30800</td>\n",
       "    </tr>\n",
       "    <tr>\n",
       "      <th>4</th>\n",
       "      <td>4</td>\n",
       "      <td>opel</td>\n",
       "      <td>combo</td>\n",
       "      <td>gen-d-2011</td>\n",
       "      <td>2014</td>\n",
       "      <td>103000</td>\n",
       "      <td>1400</td>\n",
       "      <td>CNG</td>\n",
       "      <td>Tarnowskie Góry</td>\n",
       "      <td>Śląskie</td>\n",
       "      <td>35900</td>\n",
       "    </tr>\n",
       "  </tbody>\n",
       "</table>\n",
       "</div>"
      ],
      "text/plain": [
       "   Unnamed: 0  mark  model generation_name  year  mileage  vol_engine    fuel  \\\n",
       "0           0  opel  combo      gen-d-2011  2015   139568        1248  Diesel   \n",
       "1           1  opel  combo      gen-d-2011  2018    31991        1499  Diesel   \n",
       "2           2  opel  combo      gen-d-2011  2015   278437        1598  Diesel   \n",
       "3           3  opel  combo      gen-d-2011  2016    47600        1248  Diesel   \n",
       "4           4  opel  combo      gen-d-2011  2014   103000        1400     CNG   \n",
       "\n",
       "              city     province  price  \n",
       "0            Janki  Mazowieckie  35900  \n",
       "1         Katowice      Śląskie  78501  \n",
       "2            Brzeg     Opolskie  27000  \n",
       "3        Korfantów     Opolskie  30800  \n",
       "4  Tarnowskie Góry      Śląskie  35900  "
      ]
     },
     "execution_count": 330,
     "metadata": {},
     "output_type": "execute_result"
    }
   ],
   "source": [
    "df = pd.read_csv(\"Car_Prices_Poland_Kaggle.csv\")\n",
    "\n",
    "df.head()"
   ]
  },
  {
   "cell_type": "code",
   "execution_count": 331,
   "metadata": {},
   "outputs": [
    {
     "data": {
      "text/plain": [
       "(117927, 11)"
      ]
     },
     "execution_count": 331,
     "metadata": {},
     "output_type": "execute_result"
    }
   ],
   "source": [
    "df.shape"
   ]
  },
  {
   "cell_type": "code",
   "execution_count": 332,
   "metadata": {},
   "outputs": [
    {
     "name": "stdout",
     "output_type": "stream",
     "text": [
      "<class 'pandas.core.frame.DataFrame'>\n",
      "RangeIndex: 117927 entries, 0 to 117926\n",
      "Data columns (total 11 columns):\n",
      " #   Column           Non-Null Count   Dtype \n",
      "---  ------           --------------   ----- \n",
      " 0   Unnamed: 0       117927 non-null  int64 \n",
      " 1   mark             117927 non-null  object\n",
      " 2   model            117927 non-null  object\n",
      " 3   generation_name  87842 non-null   object\n",
      " 4   year             117927 non-null  int64 \n",
      " 5   mileage          117927 non-null  int64 \n",
      " 6   vol_engine       117927 non-null  int64 \n",
      " 7   fuel             117927 non-null  object\n",
      " 8   city             117927 non-null  object\n",
      " 9   province         117927 non-null  object\n",
      " 10  price            117927 non-null  int64 \n",
      "dtypes: int64(5), object(6)\n",
      "memory usage: 9.9+ MB\n"
     ]
    }
   ],
   "source": [
    "df.info()\n"
   ]
  },
  {
   "cell_type": "markdown",
   "metadata": {},
   "source": [
    "#### Чистка данных"
   ]
  },
  {
   "cell_type": "markdown",
   "metadata": {},
   "source": [
    "В датасете отсутствуют данные об имени поколения (generation_name) у 30085 автомобилей. Удалим этот столбец, а также удалим столбец \"Unnamed: 0\", так как в нем содержится информация только о номере строки."
   ]
  },
  {
   "cell_type": "code",
   "execution_count": 333,
   "metadata": {},
   "outputs": [],
   "source": [
    "df.drop(columns=[\"generation_name\", \"Unnamed: 0\"], inplace=True)"
   ]
  },
  {
   "cell_type": "code",
   "execution_count": 334,
   "metadata": {},
   "outputs": [
    {
     "data": {
      "text/html": [
       "<div>\n",
       "<style scoped>\n",
       "    .dataframe tbody tr th:only-of-type {\n",
       "        vertical-align: middle;\n",
       "    }\n",
       "\n",
       "    .dataframe tbody tr th {\n",
       "        vertical-align: top;\n",
       "    }\n",
       "\n",
       "    .dataframe thead th {\n",
       "        text-align: right;\n",
       "    }\n",
       "</style>\n",
       "<table border=\"1\" class=\"dataframe\">\n",
       "  <thead>\n",
       "    <tr style=\"text-align: right;\">\n",
       "      <th></th>\n",
       "      <th>year</th>\n",
       "      <th>mileage</th>\n",
       "      <th>vol_engine</th>\n",
       "      <th>price</th>\n",
       "    </tr>\n",
       "  </thead>\n",
       "  <tbody>\n",
       "    <tr>\n",
       "      <th>count</th>\n",
       "      <td>117,927.00</td>\n",
       "      <td>117,927.00</td>\n",
       "      <td>117,927.00</td>\n",
       "      <td>117,927.00</td>\n",
       "    </tr>\n",
       "    <tr>\n",
       "      <th>mean</th>\n",
       "      <td>2,012.92</td>\n",
       "      <td>140,976.79</td>\n",
       "      <td>1,812.06</td>\n",
       "      <td>70,299.88</td>\n",
       "    </tr>\n",
       "    <tr>\n",
       "      <th>std</th>\n",
       "      <td>5.69</td>\n",
       "      <td>92,369.36</td>\n",
       "      <td>643.61</td>\n",
       "      <td>84,824.58</td>\n",
       "    </tr>\n",
       "    <tr>\n",
       "      <th>min</th>\n",
       "      <td>1,945.00</td>\n",
       "      <td>0.00</td>\n",
       "      <td>0.00</td>\n",
       "      <td>500.00</td>\n",
       "    </tr>\n",
       "    <tr>\n",
       "      <th>25%</th>\n",
       "      <td>2,009.00</td>\n",
       "      <td>67,000.00</td>\n",
       "      <td>1,461.00</td>\n",
       "      <td>21,000.00</td>\n",
       "    </tr>\n",
       "    <tr>\n",
       "      <th>50%</th>\n",
       "      <td>2,013.00</td>\n",
       "      <td>146,269.00</td>\n",
       "      <td>1,796.00</td>\n",
       "      <td>41,900.00</td>\n",
       "    </tr>\n",
       "    <tr>\n",
       "      <th>75%</th>\n",
       "      <td>2,018.00</td>\n",
       "      <td>203,000.00</td>\n",
       "      <td>1,995.00</td>\n",
       "      <td>83,600.00</td>\n",
       "    </tr>\n",
       "    <tr>\n",
       "      <th>max</th>\n",
       "      <td>2,022.00</td>\n",
       "      <td>2,800,000.00</td>\n",
       "      <td>7,600.00</td>\n",
       "      <td>2,399,900.00</td>\n",
       "    </tr>\n",
       "  </tbody>\n",
       "</table>\n",
       "</div>"
      ],
      "text/plain": [
       "            year      mileage  vol_engine        price\n",
       "count 117,927.00   117,927.00  117,927.00   117,927.00\n",
       "mean    2,012.92   140,976.79    1,812.06    70,299.88\n",
       "std         5.69    92,369.36      643.61    84,824.58\n",
       "min     1,945.00         0.00        0.00       500.00\n",
       "25%     2,009.00    67,000.00    1,461.00    21,000.00\n",
       "50%     2,013.00   146,269.00    1,796.00    41,900.00\n",
       "75%     2,018.00   203,000.00    1,995.00    83,600.00\n",
       "max     2,022.00 2,800,000.00    7,600.00 2,399,900.00"
      ]
     },
     "execution_count": 334,
     "metadata": {},
     "output_type": "execute_result"
    }
   ],
   "source": [
    "df.describe().round(3)"
   ]
  },
  {
   "cell_type": "markdown",
   "metadata": {},
   "source": [
    "Необходимо проверить данные на дубликаты, в случае их наличия удалим лишние строки."
   ]
  },
  {
   "cell_type": "code",
   "execution_count": 335,
   "metadata": {},
   "outputs": [
    {
     "name": "stdout",
     "output_type": "stream",
     "text": [
      "Дубликатов удалено: 6761\n"
     ]
    }
   ],
   "source": [
    "old_len = len(df)\n",
    "df.drop_duplicates(inplace=True)\n",
    "len_dropped_rows = old_len - len(df)\n",
    "if len_dropped_rows > 0:\n",
    "    print(f'Дубликатов удалено: {len_dropped_rows}')\n",
    "else:\n",
    "    print(\"Дубликаты отсутствуют\")"
   ]
  },
  {
   "cell_type": "markdown",
   "metadata": {},
   "source": [
    "#### Распределение данных"
   ]
  },
  {
   "cell_type": "code",
   "execution_count": 336,
   "metadata": {},
   "outputs": [
    {
     "data": {
      "image/png": "[encoded data removed]",
      "text/plain": [
       "<Figure size 640x480 with 4 Axes>"
      ]
     },
     "metadata": {},
     "output_type": "display_data"
    }
   ],
   "source": [
    "df.hist(column=[\"year\", \"mileage\", \"vol_engine\", \"price\"], bins=40, log=True, rwidth=0.75)\n",
    "plt.tight_layout()"
   ]
  },
  {
   "cell_type": "markdown",
   "metadata": {},
   "source": [
    "Данные графики показывают количество машин с определенными атрибутами (год, пробег, объем двигателя, цена) в выбранном датасете."
   ]
  },
  {
   "cell_type": "code",
   "execution_count": 337,
   "metadata": {},
   "outputs": [
    {
     "data": {
      "image/png": "[encoded data removed]",
      "text/plain": [
       "<Figure size 2000x700 with 1 Axes>"
      ]
     },
     "metadata": {},
     "output_type": "display_data"
    }
   ],
   "source": [
    "plt.figure(figsize=(20, 7))\n",
    "sns.countplot(x=df[\"mark\"])\n",
    "plt.show()"
   ]
  },
  {
   "cell_type": "markdown",
   "metadata": {},
   "source": [
    "По графику зависимости количества машин от марки можно сделать вывод, что наиболее популярными являются opel, audi, bmw, volkswagen и ford, каждая из перечисленных моделей занимает порядка 10% от общего количества данных."
   ]
  },
  {
   "cell_type": "code",
   "execution_count": 338,
   "metadata": {},
   "outputs": [
    {
     "data": {
      "image/png": "[encoded data removed]",
      "text/plain": [
       "<Figure size 2000x700 with 1 Axes>"
      ]
     },
     "metadata": {},
     "output_type": "display_data"
    }
   ],
   "source": [
    "plt.figure(figsize=(20, 7))\n",
    "sns.countplot(x=df[\"fuel\"])\n",
    "plt.show()"
   ]
  },
  {
   "cell_type": "markdown",
   "metadata": {},
   "source": [
    "Наибольшее количество машин из датасета работает на бензине и дизеле."
   ]
  },
  {
   "cell_type": "markdown",
   "metadata": {},
   "source": [
    "#### Корреляция\n",
    "\n",
    "Для анализа зависимостей необходимо преобразовать строковые атрибуты в числа."
   ]
  },
  {
   "cell_type": "code",
   "execution_count": 339,
   "metadata": {},
   "outputs": [
    {
     "name": "stdout",
     "output_type": "stream",
     "text": [
      "   mark  model  year  mileage  vol_engine  fuel  city  province  price\n",
      "0    15     89  2015   139568        1248     1  1161         6  35900\n",
      "1    15     89  2018    31991        1499     1  1365        21  78501\n",
      "2    15     89  2015   278437        1598     1   300        11  27000\n",
      "3    15     89  2016    47600        1248     1  1510        11  30800\n",
      "4    15     89  2014   103000        1400     0  3606        21  35900\n"
     ]
    }
   ],
   "source": [
    "LE = LabelEncoder()\n",
    "df[\"mark\"] = LE.fit_transform(df[\"mark\"])\n",
    "df[\"model\"] = LE.fit_transform(df[\"model\"])\n",
    "df[\"fuel\"] = LE.fit_transform(df[\"fuel\"])\n",
    "df[\"city\"] = LE.fit_transform(df[\"city\"])\n",
    "df[\"province\"] = LE.fit_transform(df[\"province\"])\n",
    "\n",
    "print(df.head())"
   ]
  },
  {
   "cell_type": "markdown",
   "metadata": {},
   "source": [
    "Наиболее интересно научиться предсказывать цену автомобилей по остальным признакам. По таблице представленной ниже можно увидеть, что на цену автомобиля наиболее сильно влияют год выпуска, пробег и объем двигателя. При увеличении года выпуска и объема двигателя цена возрастает, а при увеличении пробега цена падает, исходя из знака коэффициента."
   ]
  },
  {
   "cell_type": "code",
   "execution_count": 340,
   "metadata": {},
   "outputs": [
    {
     "data": {
      "text/plain": [
       "<Axes: >"
      ]
     },
     "execution_count": 340,
     "metadata": {},
     "output_type": "execute_result"
    },
    {
     "data": {
      "image/png": "[encoded data removed]",
      "text/plain": [
       "<Figure size 640x480 with 2 Axes>"
      ]
     },
     "metadata": {},
     "output_type": "display_data"
    }
   ],
   "source": [
    "sns.heatmap(df.corr(), annot=True, cmap=\"crest\")"
   ]
  },
  {
   "cell_type": "markdown",
   "metadata": {},
   "source": [
    "Разобьем данные на обучающую и тестовую выборку случайным образом."
   ]
  },
  {
   "cell_type": "code",
   "execution_count": 341,
   "metadata": {},
   "outputs": [],
   "source": [
    "X, y = df.drop(columns=\"price\"), df[\"price\"]\n",
    "\n",
    "\n",
    "X_train, X_test, y_train, y_test = train_test_split(X, y, test_size=0.3, random_state=42, shuffle=True)"
   ]
  },
  {
   "cell_type": "markdown",
   "metadata": {},
   "source": [
    "#### Подбор наилучшего количества признаков"
   ]
  },
  {
   "cell_type": "markdown",
   "metadata": {},
   "source": [
    "Подберем наилучшее количество (и само подмножество) признаков, используя Recursive Feature Elimination (RFE) из sklearn."
   ]
  },
  {
   "cell_type": "code",
   "execution_count": 343,
   "metadata": {},
   "outputs": [
    {
     "name": "stdout",
     "output_type": "stream",
     "text": [
      "Оставшиеся признаки: {'year', 'model', 'mark', 'fuel', 'mileage', 'vol_engine', 'province'}\n",
      "Удаленные признаки: {'city'}\n"
     ]
    }
   ],
   "source": [
    "rfecv = RFECV(Ridge(), cv=5)\n",
    "rfecv.fit(X_train, y_train)\n",
    "selected_fields = X.columns[rfecv.support_]\n",
    "print(\"Оставшиеся признаки:\", set(selected_fields))\n",
    "print(\"Удаленные признаки:\", set(X.columns) - set(selected_fields))\n",
    "\n",
    "X = X[selected_fields]\n",
    "X_train = X_train[selected_fields]\n",
    "X_test = X_test[selected_fields]"
   ]
  },
  {
   "cell_type": "markdown",
   "metadata": {},
   "source": [
    "### Реализация алгоритма линейной регрессии"
   ]
  },
  {
   "cell_type": "code",
   "execution_count": 344,
   "metadata": {},
   "outputs": [],
   "source": [
    "class LinearRegressorAbstract(BaseEstimator, RegressorMixin, abc.ABC):\n",
    "\n",
    "    def __init__(self, alpha: Real = 1, *, max_iter: Integral = 1000, tol: Real = 1e-4,\n",
    "                 eta0: Real = 1):\n",
    "        self.alpha = alpha\n",
    "        self.max_iter = max_iter\n",
    "        self.tol = tol\n",
    "        self.eta0 = eta0\n",
    "\n",
    "    @abc.abstractmethod\n",
    "    def _get_X_y_for_GD(self, X, y):\n",
    "        ...\n",
    "\n",
    "    def fit(self, X, y):\n",
    "        self.alpha = check_scalar(self.alpha, \"alpha\", Real, min_val=0.0)\n",
    "        self.max_iter = check_scalar(self.max_iter, \"max_iter\", Integral, min_val=1)\n",
    "        self.tol = check_scalar(self.tol, \"tol\", Real, min_val=0.0)\n",
    "        self.eta0 = check_scalar(self.eta0, \"eta0\", Real, min_val=0, include_boundaries=\"neither\")\n",
    "\n",
    "        X, y = check_X_y(X, y, y_numeric=True)\n",
    "        self.n_features_in_ = X.shape[1]\n",
    "        X = np.column_stack([X, np.ones(X.shape[0])])\n",
    "\n",
    "        coef = np.zeros(X.shape[1])\n",
    "        grad = np.inf\n",
    "        self.n_iter_ = 0\n",
    "        while self.n_iter_ < self.max_iter and np.linalg.norm(grad) > self.tol:\n",
    "            X_subset, y_subset = self._get_X_y_for_GD(X, y)\n",
    "            pred = X_subset @ coef\n",
    "            grad = (2 / X_subset.shape[0]) * X_subset.T @ (pred - y_subset) + 2 * self.alpha * np.pad(coef[:-1], (0, 1))\n",
    "            self.n_iter_ += 1\n",
    "            coef -= grad * self.eta0 / self.n_iter_\n",
    "\n",
    "        self.coef_ = coef[:-1]\n",
    "        self.intercept_ = coef[-1]\n",
    "\n",
    "        return self\n",
    "\n",
    "    def predict(self, X):\n",
    "        check_is_fitted(self)\n",
    "        X = check_array(X)\n",
    "        return X @ self.coef_ + self.intercept_\n",
    "\n",
    "\n",
    "class LinearRegressorGD(LinearRegressorAbstract):\n",
    "    def _get_X_y_for_GD(self, X, y):\n",
    "        return X, y\n",
    "\n",
    "\n",
    "class LinearRegressorMBGD(LinearRegressorAbstract):\n",
    "\n",
    "    def __init__(self, alpha: Real = 1, batch_size: Real = 0.1, *, max_iter: Integral = 1000, tol: Real = 1e-4,\n",
    "                eta0: Real = 1, random_state=None):\n",
    "        super().__init__(alpha, max_iter=max_iter, tol=tol, eta0=eta0)\n",
    "        self.batch_size = batch_size\n",
    "        self.random_state = random_state\n",
    "\n",
    "    def _get_X_y_for_GD(self, X, y):\n",
    "        size = self.batch_size if type(self.batch_size) == int else ceil(len(X) * self.batch_size)\n",
    "        idx = self.random_state_.randint(len(X), size=size)\n",
    "        return X[idx, :], y[idx]\n",
    "\n",
    "    def fit(self, X, y):\n",
    "        self.batch_size = check_scalar(self.batch_size, \"batch_size\", (float, int), min_val=0)\n",
    "        self.random_state_ = check_random_state(self.random_state)\n",
    "        return super().fit(X, y)\n",
    "\n",
    "\n",
    "class LinearRegressorSGD(LinearRegressorMBGD):\n",
    "    def __init__(self, alpha: Real = 1, *, max_iter: Integral = 1000, tol: Real = 1e-4, random_state=None,\n",
    "                 eta0: Real = 1):\n",
    "        super().__init__(alpha, 1, max_iter=max_iter, tol=tol, random_state=random_state, eta0=eta0)"
   ]
  },
  {
   "cell_type": "markdown",
   "metadata": {},
   "source": [
    "### Обучение моделей"
   ]
  },
  {
   "cell_type": "code",
   "execution_count": 346,
   "metadata": {},
   "outputs": [
    {
     "data": {
      "text/html": [
       "<div>\n",
       "<style scoped>\n",
       "    .dataframe tbody tr th:only-of-type {\n",
       "        vertical-align: middle;\n",
       "    }\n",
       "\n",
       "    .dataframe tbody tr th {\n",
       "        vertical-align: top;\n",
       "    }\n",
       "\n",
       "    .dataframe thead th {\n",
       "        text-align: right;\n",
       "    }\n",
       "</style>\n",
       "<table border=\"1\" class=\"dataframe\">\n",
       "  <thead>\n",
       "    <tr style=\"text-align: right;\">\n",
       "      <th></th>\n",
       "      <th>MSE train</th>\n",
       "      <th>MSE test</th>\n",
       "      <th>RMSE train</th>\n",
       "      <th>RMSE test</th>\n",
       "      <th>R2 train</th>\n",
       "      <th>R2 test</th>\n",
       "    </tr>\n",
       "    <tr>\n",
       "      <th>Estimator</th>\n",
       "      <th></th>\n",
       "      <th></th>\n",
       "      <th></th>\n",
       "      <th></th>\n",
       "      <th></th>\n",
       "      <th></th>\n",
       "    </tr>\n",
       "  </thead>\n",
       "  <tbody>\n",
       "    <tr>\n",
       "      <th>Ridge</th>\n",
       "      <td>2,946,862,365.61</td>\n",
       "      <td>3,008,041,278.46</td>\n",
       "      <td>54,285.01</td>\n",
       "      <td>54,845.61</td>\n",
       "      <td>0.57</td>\n",
       "      <td>0.57</td>\n",
       "    </tr>\n",
       "    <tr>\n",
       "      <th>LinearRegressorGD</th>\n",
       "      <td>3,696,066,211.62</td>\n",
       "      <td>3,830,705,767.04</td>\n",
       "      <td>60,795.28</td>\n",
       "      <td>61,892.70</td>\n",
       "      <td>0.46</td>\n",
       "      <td>0.46</td>\n",
       "    </tr>\n",
       "    <tr>\n",
       "      <th>LinearRegressorMBGD</th>\n",
       "      <td>3,696,165,617.81</td>\n",
       "      <td>3,830,768,011.72</td>\n",
       "      <td>60,796.10</td>\n",
       "      <td>61,893.20</td>\n",
       "      <td>0.46</td>\n",
       "      <td>0.46</td>\n",
       "    </tr>\n",
       "    <tr>\n",
       "      <th>LinearRegressorSGD</th>\n",
       "      <td>3,691,484,353.62</td>\n",
       "      <td>3,826,830,446.45</td>\n",
       "      <td>60,757.59</td>\n",
       "      <td>61,861.38</td>\n",
       "      <td>0.46</td>\n",
       "      <td>0.46</td>\n",
       "    </tr>\n",
       "  </tbody>\n",
       "</table>\n",
       "</div>"
      ],
      "text/plain": [
       "                           MSE train         MSE test  RMSE train  RMSE test  \\\n",
       "Estimator                                                                      \n",
       "Ridge               2,946,862,365.61 3,008,041,278.46   54,285.01  54,845.61   \n",
       "LinearRegressorGD   3,696,066,211.62 3,830,705,767.04   60,795.28  61,892.70   \n",
       "LinearRegressorMBGD 3,696,165,617.81 3,830,768,011.72   60,796.10  61,893.20   \n",
       "LinearRegressorSGD  3,691,484,353.62 3,826,830,446.45   60,757.59  61,861.38   \n",
       "\n",
       "                     R2 train  R2 test  \n",
       "Estimator                               \n",
       "Ridge                    0.57     0.57  \n",
       "LinearRegressorGD        0.46     0.46  \n",
       "LinearRegressorMBGD      0.46     0.46  \n",
       "LinearRegressorSGD       0.46     0.46  "
      ]
     },
     "execution_count": 346,
     "metadata": {},
     "output_type": "execute_result"
    }
   ],
   "source": [
    "pd.options.display.float_format = '{:,.2f}'.format\n",
    "\n",
    "def train_simple(regressor, estimator_name):    \n",
    "    model = Pipeline([(\"scaler\", StandardScaler()), (\"regressor\", regressor)])\n",
    "    model.fit(X_train, y_train)\n",
    "\n",
    "    pred = model.predict(X_train)\n",
    "    mse_train = mean_squared_error(y_train, pred)\n",
    "    rmse_train = mean_squared_error(y_train, pred, squared=False)\n",
    "    r2_train = r2_score(y_train, pred)\n",
    "\n",
    "    pred = model.predict(X_test)\n",
    "    mse_test = mean_squared_error(y_test, pred)\n",
    "    rmse_test = mean_squared_error(y_test, pred, squared=False)\n",
    "    r2_test = r2_score(y_test, pred)\n",
    "\n",
    "    return [estimator_name, mse_train, mse_test, rmse_train, rmse_test, r2_train, r2_test]\n",
    "\n",
    "data = []\n",
    "data.append(train_simple(Ridge(), \"Ridge\"))\n",
    "data.append(train_simple(LinearRegressorGD(max_iter=10000), \"LinearRegressorGD\"))\n",
    "data.append(train_simple(LinearRegressorMBGD(random_state=50, max_iter=10000), \"LinearRegressorMBGD\"))\n",
    "data.append(train_simple(LinearRegressorSGD(random_state=50, max_iter=10000), \"LinearRegressorSGD\"))\n",
    "\n",
    "pd.DataFrame(\n",
    "    data,\n",
    "    columns=[\"Estimator\", \"MSE train\", \"MSE test\", \"RMSE train\", \"RMSE test\", \"R2 train\", \"R2 test\"]\n",
    ").set_index(\"Estimator\")"
   ]
  },
  {
   "cell_type": "markdown",
   "metadata": {},
   "source": [
    "#### Обучение моделей с кросс-валидацией и подбором гипер-параметров"
   ]
  },
  {
   "cell_type": "code",
   "execution_count": 347,
   "metadata": {},
   "outputs": [],
   "source": [
    "def train_with_param_cv(estimator, estimator_name, param_grid):\n",
    "    model = Pipeline([(\"scaler\", StandardScaler()), (\"estimator\", estimator)])\n",
    "    param_grid = {f\"estimator__{name}\": val for name, val in param_grid.items()}\n",
    "    grid_search = GridSearchCV(\n",
    "        model,\n",
    "        param_grid,\n",
    "        scoring=[\"neg_mean_squared_error\", \"neg_root_mean_squared_error\", \"r2\"],\n",
    "        refit=\"neg_mean_squared_error\",\n",
    "        return_train_score=True\n",
    "    )\n",
    "    grid_search.fit(X, y)\n",
    "\n",
    "    print(estimator_name)\n",
    "    print(\n",
    "        \"Лучшие гиперпараметры:\",\n",
    "        {name : val for name, val in grid_search.best_params_.items()}\n",
    "    )\n",
    "\n",
    "    result = pd.DataFrame(grid_search.cv_results_).iloc[grid_search.best_index_]\n",
    "    res_data = []\n",
    "    res_ind = []\n",
    "    column_names = []\n",
    "    for i in range(1, 6):\n",
    "        column_names.append(f\"Fold {i}\")\n",
    "    column_names.append(\"Mean\")\n",
    "    column_names.append(\"STD\")\n",
    "    \n",
    "    for score_function, name in [\n",
    "        (\"neg_mean_squared_error\", \"MSE\"),\n",
    "        (\"neg_root_mean_squared_error\", \"RMSE\"),\n",
    "        (\"r2\", \"R2\")\n",
    "    ]:\n",
    "        for run_type in [\"train\", \"test\"]:\n",
    "            row = []\n",
    "            for i in range(5):\n",
    "                row.append(abs(result[f\"split{i}_{run_type}_{score_function}\"]))\n",
    "            row.append(abs(result[f\"mean_{run_type}_{score_function}\"]))\n",
    "            row.append(result[f\"std_{run_type}_{score_function}\"])\n",
    "            res_data.append(row)\n",
    "            res_ind.append(f\"{name} ({run_type})\")\n",
    "    \n",
    "    return pd.DataFrame(\n",
    "        data=res_data,\n",
    "        index=res_ind,\n",
    "        columns=column_names\n",
    "    )"
   ]
  },
  {
   "cell_type": "code",
   "execution_count": 361,
   "metadata": {},
   "outputs": [
    {
     "name": "stdout",
     "output_type": "stream",
     "text": [
      "Ridge\n",
      "Лучшие гиперпараметры: {'estimator__alpha': 0.01}\n"
     ]
    },
    {
     "data": {
      "text/html": [
       "<div>\n",
       "<style scoped>\n",
       "    .dataframe tbody tr th:only-of-type {\n",
       "        vertical-align: middle;\n",
       "    }\n",
       "\n",
       "    .dataframe tbody tr th {\n",
       "        vertical-align: top;\n",
       "    }\n",
       "\n",
       "    .dataframe thead th {\n",
       "        text-align: right;\n",
       "    }\n",
       "</style>\n",
       "<table border=\"1\" class=\"dataframe\">\n",
       "  <thead>\n",
       "    <tr style=\"text-align: right;\">\n",
       "      <th></th>\n",
       "      <th>Fold 1</th>\n",
       "      <th>Fold 2</th>\n",
       "      <th>Fold 3</th>\n",
       "      <th>Fold 4</th>\n",
       "      <th>Fold 5</th>\n",
       "      <th>Mean</th>\n",
       "      <th>STD</th>\n",
       "    </tr>\n",
       "  </thead>\n",
       "  <tbody>\n",
       "    <tr>\n",
       "      <th>MSE (train)</th>\n",
       "      <td>2,735,180,888.43</td>\n",
       "      <td>2,746,868,734.08</td>\n",
       "      <td>2,485,723,531.02</td>\n",
       "      <td>3,351,988,378.56</td>\n",
       "      <td>3,402,456,514.77</td>\n",
       "      <td>2,944,443,609.37</td>\n",
       "      <td>365,819,460.50</td>\n",
       "    </tr>\n",
       "    <tr>\n",
       "      <th>MSE (test)</th>\n",
       "      <td>4,096,935,538.57</td>\n",
       "      <td>3,945,984,086.21</td>\n",
       "      <td>4,912,584,931.79</td>\n",
       "      <td>1,571,358,099.24</td>\n",
       "      <td>1,262,320,793.56</td>\n",
       "      <td>3,157,836,689.88</td>\n",
       "      <td>1,462,335,063.53</td>\n",
       "    </tr>\n",
       "    <tr>\n",
       "      <th>RMSE (train)</th>\n",
       "      <td>52,298.96</td>\n",
       "      <td>52,410.58</td>\n",
       "      <td>49,857.03</td>\n",
       "      <td>57,896.36</td>\n",
       "      <td>58,330.58</td>\n",
       "      <td>54,158.70</td>\n",
       "      <td>3,358.38</td>\n",
       "    </tr>\n",
       "    <tr>\n",
       "      <th>RMSE (test)</th>\n",
       "      <td>64,007.31</td>\n",
       "      <td>62,817.07</td>\n",
       "      <td>70,089.83</td>\n",
       "      <td>39,640.36</td>\n",
       "      <td>35,529.15</td>\n",
       "      <td>54,416.75</td>\n",
       "      <td>14,023.36</td>\n",
       "    </tr>\n",
       "    <tr>\n",
       "      <th>R2 (train)</th>\n",
       "      <td>0.56</td>\n",
       "      <td>0.54</td>\n",
       "      <td>0.60</td>\n",
       "      <td>0.58</td>\n",
       "      <td>0.57</td>\n",
       "      <td>0.57</td>\n",
       "      <td>0.02</td>\n",
       "    </tr>\n",
       "    <tr>\n",
       "      <th>R2 (test)</th>\n",
       "      <td>0.57</td>\n",
       "      <td>0.61</td>\n",
       "      <td>0.49</td>\n",
       "      <td>0.16</td>\n",
       "      <td>0.51</td>\n",
       "      <td>0.47</td>\n",
       "      <td>0.16</td>\n",
       "    </tr>\n",
       "  </tbody>\n",
       "</table>\n",
       "</div>"
      ],
      "text/plain": [
       "                       Fold 1           Fold 2           Fold 3  \\\n",
       "MSE (train)  2,735,180,888.43 2,746,868,734.08 2,485,723,531.02   \n",
       "MSE (test)   4,096,935,538.57 3,945,984,086.21 4,912,584,931.79   \n",
       "RMSE (train)        52,298.96        52,410.58        49,857.03   \n",
       "RMSE (test)         64,007.31        62,817.07        70,089.83   \n",
       "R2 (train)               0.56             0.54             0.60   \n",
       "R2 (test)                0.57             0.61             0.49   \n",
       "\n",
       "                       Fold 4           Fold 5             Mean  \\\n",
       "MSE (train)  3,351,988,378.56 3,402,456,514.77 2,944,443,609.37   \n",
       "MSE (test)   1,571,358,099.24 1,262,320,793.56 3,157,836,689.88   \n",
       "RMSE (train)        57,896.36        58,330.58        54,158.70   \n",
       "RMSE (test)         39,640.36        35,529.15        54,416.75   \n",
       "R2 (train)               0.58             0.57             0.57   \n",
       "R2 (test)                0.16             0.51             0.47   \n",
       "\n",
       "                          STD  \n",
       "MSE (train)    365,819,460.50  \n",
       "MSE (test)   1,462,335,063.53  \n",
       "RMSE (train)         3,358.38  \n",
       "RMSE (test)         14,023.36  \n",
       "R2 (train)               0.02  \n",
       "R2 (test)                0.16  "
      ]
     },
     "execution_count": 361,
     "metadata": {},
     "output_type": "execute_result"
    }
   ],
   "source": [
    "train_with_param_cv(\n",
    "    Ridge(), \"Ridge\",\n",
    "    {\"alpha\": [0.01, 0.1, 1, 4, 10]}\n",
    ")"
   ]
  },
  {
   "cell_type": "code",
   "execution_count": 349,
   "metadata": {},
   "outputs": [
    {
     "name": "stdout",
     "output_type": "stream",
     "text": [
      "LinearRegressorGD\n",
      "Лучшие гиперпараметры: {'estimator__alpha': 0.0001, 'estimator__max_iter': 500, 'estimator__tol': 0.0001}\n"
     ]
    },
    {
     "data": {
      "text/html": [
       "<div>\n",
       "<style scoped>\n",
       "    .dataframe tbody tr th:only-of-type {\n",
       "        vertical-align: middle;\n",
       "    }\n",
       "\n",
       "    .dataframe tbody tr th {\n",
       "        vertical-align: top;\n",
       "    }\n",
       "\n",
       "    .dataframe thead th {\n",
       "        text-align: right;\n",
       "    }\n",
       "</style>\n",
       "<table border=\"1\" class=\"dataframe\">\n",
       "  <thead>\n",
       "    <tr style=\"text-align: right;\">\n",
       "      <th></th>\n",
       "      <th>Fold 1</th>\n",
       "      <th>Fold 2</th>\n",
       "      <th>Fold 3</th>\n",
       "      <th>Fold 4</th>\n",
       "      <th>Fold 5</th>\n",
       "      <th>Mean</th>\n",
       "      <th>STD</th>\n",
       "    </tr>\n",
       "  </thead>\n",
       "  <tbody>\n",
       "    <tr>\n",
       "      <th>MSE (train)</th>\n",
       "      <td>2,735,185,721.70</td>\n",
       "      <td>2,746,875,559.33</td>\n",
       "      <td>2,485,723,987.66</td>\n",
       "      <td>3,351,996,961.31</td>\n",
       "      <td>3,402,460,075.36</td>\n",
       "      <td>2,944,448,461.07</td>\n",
       "      <td>365,820,859.70</td>\n",
       "    </tr>\n",
       "    <tr>\n",
       "      <th>MSE (test)</th>\n",
       "      <td>4,097,048,284.80</td>\n",
       "      <td>3,945,510,798.21</td>\n",
       "      <td>4,912,761,493.38</td>\n",
       "      <td>1,570,871,750.51</td>\n",
       "      <td>1,262,425,588.51</td>\n",
       "      <td>3,157,723,583.08</td>\n",
       "      <td>1,462,419,289.05</td>\n",
       "    </tr>\n",
       "    <tr>\n",
       "      <th>RMSE (train)</th>\n",
       "      <td>52,299.00</td>\n",
       "      <td>52,410.64</td>\n",
       "      <td>49,857.04</td>\n",
       "      <td>57,896.43</td>\n",
       "      <td>58,330.61</td>\n",
       "      <td>54,158.75</td>\n",
       "      <td>3,358.39</td>\n",
       "    </tr>\n",
       "    <tr>\n",
       "      <th>RMSE (test)</th>\n",
       "      <td>64,008.19</td>\n",
       "      <td>62,813.30</td>\n",
       "      <td>70,091.09</td>\n",
       "      <td>39,634.22</td>\n",
       "      <td>35,530.63</td>\n",
       "      <td>54,415.49</td>\n",
       "      <td>14,024.20</td>\n",
       "    </tr>\n",
       "    <tr>\n",
       "      <th>R2 (train)</th>\n",
       "      <td>0.56</td>\n",
       "      <td>0.54</td>\n",
       "      <td>0.60</td>\n",
       "      <td>0.58</td>\n",
       "      <td>0.57</td>\n",
       "      <td>0.57</td>\n",
       "      <td>0.02</td>\n",
       "    </tr>\n",
       "    <tr>\n",
       "      <th>R2 (test)</th>\n",
       "      <td>0.57</td>\n",
       "      <td>0.61</td>\n",
       "      <td>0.49</td>\n",
       "      <td>0.16</td>\n",
       "      <td>0.51</td>\n",
       "      <td>0.47</td>\n",
       "      <td>0.16</td>\n",
       "    </tr>\n",
       "  </tbody>\n",
       "</table>\n",
       "</div>"
      ],
      "text/plain": [
       "                       Fold 1           Fold 2           Fold 3  \\\n",
       "MSE (train)  2,735,185,721.70 2,746,875,559.33 2,485,723,987.66   \n",
       "MSE (test)   4,097,048,284.80 3,945,510,798.21 4,912,761,493.38   \n",
       "RMSE (train)        52,299.00        52,410.64        49,857.04   \n",
       "RMSE (test)         64,008.19        62,813.30        70,091.09   \n",
       "R2 (train)               0.56             0.54             0.60   \n",
       "R2 (test)                0.57             0.61             0.49   \n",
       "\n",
       "                       Fold 4           Fold 5             Mean  \\\n",
       "MSE (train)  3,351,996,961.31 3,402,460,075.36 2,944,448,461.07   \n",
       "MSE (test)   1,570,871,750.51 1,262,425,588.51 3,157,723,583.08   \n",
       "RMSE (train)        57,896.43        58,330.61        54,158.75   \n",
       "RMSE (test)         39,634.22        35,530.63        54,415.49   \n",
       "R2 (train)               0.58             0.57             0.57   \n",
       "R2 (test)                0.16             0.51             0.47   \n",
       "\n",
       "                          STD  \n",
       "MSE (train)    365,820,859.70  \n",
       "MSE (test)   1,462,419,289.05  \n",
       "RMSE (train)         3,358.39  \n",
       "RMSE (test)         14,024.20  \n",
       "R2 (train)               0.02  \n",
       "R2 (test)                0.16  "
      ]
     },
     "execution_count": 349,
     "metadata": {},
     "output_type": "execute_result"
    }
   ],
   "source": [
    "train_with_param_cv(\n",
    "    LinearRegressorGD(), \"LinearRegressorGD\",\n",
    "    {\n",
    "        \"alpha\": [0.0001, 0.01, 1],\n",
    "        \"max_iter\": [500, 1000, 2000],\n",
    "        \"tol\": [1e-4, 1e-5, 1e-6]\n",
    "    }\n",
    ")"
   ]
  },
  {
   "cell_type": "code",
   "execution_count": 350,
   "metadata": {},
   "outputs": [
    {
     "name": "stdout",
     "output_type": "stream",
     "text": [
      "LinearRegressorMBGD\n",
      "Лучшие гиперпараметры: {'estimator__alpha': 0.0001, 'estimator__max_iter': 500, 'estimator__tol': 1e-05}\n"
     ]
    },
    {
     "data": {
      "text/html": [
       "<div>\n",
       "<style scoped>\n",
       "    .dataframe tbody tr th:only-of-type {\n",
       "        vertical-align: middle;\n",
       "    }\n",
       "\n",
       "    .dataframe tbody tr th {\n",
       "        vertical-align: top;\n",
       "    }\n",
       "\n",
       "    .dataframe thead th {\n",
       "        text-align: right;\n",
       "    }\n",
       "</style>\n",
       "<table border=\"1\" class=\"dataframe\">\n",
       "  <thead>\n",
       "    <tr style=\"text-align: right;\">\n",
       "      <th></th>\n",
       "      <th>Fold 1</th>\n",
       "      <th>Fold 2</th>\n",
       "      <th>Fold 3</th>\n",
       "      <th>Fold 4</th>\n",
       "      <th>Fold 5</th>\n",
       "      <th>Mean</th>\n",
       "      <th>STD</th>\n",
       "    </tr>\n",
       "  </thead>\n",
       "  <tbody>\n",
       "    <tr>\n",
       "      <th>MSE (train)</th>\n",
       "      <td>2,735,244,840.35</td>\n",
       "      <td>2,746,944,013.84</td>\n",
       "      <td>2,485,754,889.98</td>\n",
       "      <td>3,352,060,503.76</td>\n",
       "      <td>3,402,544,986.99</td>\n",
       "      <td>2,944,509,846.98</td>\n",
       "      <td>365,834,372.17</td>\n",
       "    </tr>\n",
       "    <tr>\n",
       "      <th>MSE (test)</th>\n",
       "      <td>4,095,614,748.96</td>\n",
       "      <td>3,943,428,550.61</td>\n",
       "      <td>4,911,853,331.76</td>\n",
       "      <td>1,570,859,855.99</td>\n",
       "      <td>1,258,779,808.53</td>\n",
       "      <td>3,156,107,259.17</td>\n",
       "      <td>1,462,740,865.29</td>\n",
       "    </tr>\n",
       "    <tr>\n",
       "      <th>RMSE (train)</th>\n",
       "      <td>52,299.57</td>\n",
       "      <td>52,411.30</td>\n",
       "      <td>49,857.35</td>\n",
       "      <td>57,896.98</td>\n",
       "      <td>58,331.34</td>\n",
       "      <td>54,159.31</td>\n",
       "      <td>3,358.48</td>\n",
       "    </tr>\n",
       "    <tr>\n",
       "      <th>RMSE (test)</th>\n",
       "      <td>63,996.99</td>\n",
       "      <td>62,796.72</td>\n",
       "      <td>70,084.62</td>\n",
       "      <td>39,634.07</td>\n",
       "      <td>35,479.29</td>\n",
       "      <td>54,398.34</td>\n",
       "      <td>14,033.11</td>\n",
       "    </tr>\n",
       "    <tr>\n",
       "      <th>R2 (train)</th>\n",
       "      <td>0.56</td>\n",
       "      <td>0.54</td>\n",
       "      <td>0.60</td>\n",
       "      <td>0.58</td>\n",
       "      <td>0.57</td>\n",
       "      <td>0.57</td>\n",
       "      <td>0.02</td>\n",
       "    </tr>\n",
       "    <tr>\n",
       "      <th>R2 (test)</th>\n",
       "      <td>0.57</td>\n",
       "      <td>0.61</td>\n",
       "      <td>0.49</td>\n",
       "      <td>0.16</td>\n",
       "      <td>0.51</td>\n",
       "      <td>0.47</td>\n",
       "      <td>0.16</td>\n",
       "    </tr>\n",
       "  </tbody>\n",
       "</table>\n",
       "</div>"
      ],
      "text/plain": [
       "                       Fold 1           Fold 2           Fold 3  \\\n",
       "MSE (train)  2,735,244,840.35 2,746,944,013.84 2,485,754,889.98   \n",
       "MSE (test)   4,095,614,748.96 3,943,428,550.61 4,911,853,331.76   \n",
       "RMSE (train)        52,299.57        52,411.30        49,857.35   \n",
       "RMSE (test)         63,996.99        62,796.72        70,084.62   \n",
       "R2 (train)               0.56             0.54             0.60   \n",
       "R2 (test)                0.57             0.61             0.49   \n",
       "\n",
       "                       Fold 4           Fold 5             Mean  \\\n",
       "MSE (train)  3,352,060,503.76 3,402,544,986.99 2,944,509,846.98   \n",
       "MSE (test)   1,570,859,855.99 1,258,779,808.53 3,156,107,259.17   \n",
       "RMSE (train)        57,896.98        58,331.34        54,159.31   \n",
       "RMSE (test)         39,634.07        35,479.29        54,398.34   \n",
       "R2 (train)               0.58             0.57             0.57   \n",
       "R2 (test)                0.16             0.51             0.47   \n",
       "\n",
       "                          STD  \n",
       "MSE (train)    365,834,372.17  \n",
       "MSE (test)   1,462,740,865.29  \n",
       "RMSE (train)         3,358.48  \n",
       "RMSE (test)         14,033.11  \n",
       "R2 (train)               0.02  \n",
       "R2 (test)                0.16  "
      ]
     },
     "execution_count": 350,
     "metadata": {},
     "output_type": "execute_result"
    }
   ],
   "source": [
    "train_with_param_cv(\n",
    "    LinearRegressorMBGD(), \"LinearRegressorMBGD\",\n",
    "    {\n",
    "        \"alpha\": [0.0001, 0.01, 1],\n",
    "        \"max_iter\": [500, 1000, 2000],\n",
    "        \"tol\": [1e-4, 1e-5, 1e-6]\n",
    "    }\n",
    ")"
   ]
  },
  {
   "cell_type": "code",
   "execution_count": 351,
   "metadata": {},
   "outputs": [
    {
     "name": "stdout",
     "output_type": "stream",
     "text": [
      "LinearRegressorSGD\n",
      "Лучшие гиперпараметры: {'estimator__alpha': 0.0001, 'estimator__max_iter': 10000, 'estimator__tol': 1e-05}\n"
     ]
    },
    {
     "data": {
      "text/html": [
       "<div>\n",
       "<style scoped>\n",
       "    .dataframe tbody tr th:only-of-type {\n",
       "        vertical-align: middle;\n",
       "    }\n",
       "\n",
       "    .dataframe tbody tr th {\n",
       "        vertical-align: top;\n",
       "    }\n",
       "\n",
       "    .dataframe thead th {\n",
       "        text-align: right;\n",
       "    }\n",
       "</style>\n",
       "<table border=\"1\" class=\"dataframe\">\n",
       "  <thead>\n",
       "    <tr style=\"text-align: right;\">\n",
       "      <th></th>\n",
       "      <th>Fold 1</th>\n",
       "      <th>Fold 2</th>\n",
       "      <th>Fold 3</th>\n",
       "      <th>Fold 4</th>\n",
       "      <th>Fold 5</th>\n",
       "      <th>Mean</th>\n",
       "      <th>STD</th>\n",
       "    </tr>\n",
       "  </thead>\n",
       "  <tbody>\n",
       "    <tr>\n",
       "      <th>MSE (train)</th>\n",
       "      <td>2,750,864,767.36</td>\n",
       "      <td>2,767,454,607.33</td>\n",
       "      <td>2,505,551,515.41</td>\n",
       "      <td>3,401,194,572.64</td>\n",
       "      <td>3,503,427,075.29</td>\n",
       "      <td>2,985,698,507.60</td>\n",
       "      <td>393,445,871.63</td>\n",
       "    </tr>\n",
       "    <tr>\n",
       "      <th>MSE (test)</th>\n",
       "      <td>4,017,096,687.74</td>\n",
       "      <td>3,972,234,204.07</td>\n",
       "      <td>4,946,627,616.25</td>\n",
       "      <td>1,585,717,626.44</td>\n",
       "      <td>1,279,465,826.32</td>\n",
       "      <td>3,160,228,392.16</td>\n",
       "      <td>1,456,101,018.66</td>\n",
       "    </tr>\n",
       "    <tr>\n",
       "      <th>RMSE (train)</th>\n",
       "      <td>52,448.69</td>\n",
       "      <td>52,606.60</td>\n",
       "      <td>50,055.48</td>\n",
       "      <td>58,319.76</td>\n",
       "      <td>59,189.75</td>\n",
       "      <td>54,524.06</td>\n",
       "      <td>3,581.29</td>\n",
       "    </tr>\n",
       "    <tr>\n",
       "      <th>RMSE (test)</th>\n",
       "      <td>63,380.57</td>\n",
       "      <td>63,025.66</td>\n",
       "      <td>70,332.27</td>\n",
       "      <td>39,821.07</td>\n",
       "      <td>35,769.62</td>\n",
       "      <td>54,465.84</td>\n",
       "      <td>13,917.65</td>\n",
       "    </tr>\n",
       "    <tr>\n",
       "      <th>R2 (train)</th>\n",
       "      <td>0.56</td>\n",
       "      <td>0.54</td>\n",
       "      <td>0.60</td>\n",
       "      <td>0.58</td>\n",
       "      <td>0.56</td>\n",
       "      <td>0.57</td>\n",
       "      <td>0.02</td>\n",
       "    </tr>\n",
       "    <tr>\n",
       "      <th>R2 (test)</th>\n",
       "      <td>0.57</td>\n",
       "      <td>0.61</td>\n",
       "      <td>0.49</td>\n",
       "      <td>0.15</td>\n",
       "      <td>0.50</td>\n",
       "      <td>0.47</td>\n",
       "      <td>0.16</td>\n",
       "    </tr>\n",
       "  </tbody>\n",
       "</table>\n",
       "</div>"
      ],
      "text/plain": [
       "                       Fold 1           Fold 2           Fold 3  \\\n",
       "MSE (train)  2,750,864,767.36 2,767,454,607.33 2,505,551,515.41   \n",
       "MSE (test)   4,017,096,687.74 3,972,234,204.07 4,946,627,616.25   \n",
       "RMSE (train)        52,448.69        52,606.60        50,055.48   \n",
       "RMSE (test)         63,380.57        63,025.66        70,332.27   \n",
       "R2 (train)               0.56             0.54             0.60   \n",
       "R2 (test)                0.57             0.61             0.49   \n",
       "\n",
       "                       Fold 4           Fold 5             Mean  \\\n",
       "MSE (train)  3,401,194,572.64 3,503,427,075.29 2,985,698,507.60   \n",
       "MSE (test)   1,585,717,626.44 1,279,465,826.32 3,160,228,392.16   \n",
       "RMSE (train)        58,319.76        59,189.75        54,524.06   \n",
       "RMSE (test)         39,821.07        35,769.62        54,465.84   \n",
       "R2 (train)               0.58             0.56             0.57   \n",
       "R2 (test)                0.15             0.50             0.47   \n",
       "\n",
       "                          STD  \n",
       "MSE (train)    393,445,871.63  \n",
       "MSE (test)   1,456,101,018.66  \n",
       "RMSE (train)         3,581.29  \n",
       "RMSE (test)         13,917.65  \n",
       "R2 (train)               0.02  \n",
       "R2 (test)                0.16  "
      ]
     },
     "execution_count": 351,
     "metadata": {},
     "output_type": "execute_result"
    }
   ],
   "source": [
    "train_with_param_cv(\n",
    "    LinearRegressorSGD(), \"LinearRegressorSGD\",\n",
    "    {\n",
    "        \"alpha\": [0.0001, 0.01, 1],\n",
    "        \"max_iter\": [10000, 50000],\n",
    "        \"tol\": [1e-4, 1e-5, 1e-6]\n",
    "    }\n",
    ")"
   ]
  },
  {
   "cell_type": "markdown",
   "metadata": {},
   "source": [
    "#### Вывод\n",
    "Исходя из результатов всех моделей можно сделать вывод, что предсказания цен на автомобили из данного датасета будут не точными.\n",
    "\n",
    "1. Результаты работы алгоритма Ridge из sklearn с кросс-валидацией и подбором гипер-параметров, не отличаются от работы этого же алгоритма без них.\n",
    "2. В остальных случаях модели без кросс-валидации и подбора гипер-параметров показали себя незначительно хуже ~0.46 (на тренировочной выборке) и ~0.46 (на тестовой выборке) против ~0.57 и ~0.47 соответственно.\n",
    "3. Для данного датасета наиболее оптимальным вариантом по времени работы и точности предсказания является модель Ridge из sklearn без кросс-валидации и подбора гипер-параметров."
   ]
  }
 ],
 "metadata": {
  "kernelspec": {
   "display_name": "venv",
   "language": "python",
   "name": "python3"
  },
  "language_info": {
   "codemirror_mode": {
    "name": "ipython",
    "version": 3
   },
   "file_extension": ".py",
   "mimetype": "text/x-python",
   "name": "python",
   "nbconvert_exporter": "python",
   "pygments_lexer": "ipython3",
   "version": "3.9.6"
  }
 },
 "nbformat": 4,
 "nbformat_minor": 2
}
